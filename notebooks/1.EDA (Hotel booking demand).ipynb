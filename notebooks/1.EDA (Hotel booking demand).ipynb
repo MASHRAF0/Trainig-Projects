{
 "cells": [
  {
   "cell_type": "markdown",
   "metadata": {},
   "source": [
    "# Importing Libraries"
   ]
  },
  {
   "cell_type": "code",
   "execution_count": 195,
   "metadata": {},
   "outputs": [],
   "source": [
    "import numpy as np\n",
    "import pandas as pd\n",
    "import matplotlib.pyplot as plt\n",
    "import seaborn as sns\n",
    "%matplotlib inline"
   ]
  },
  {
   "cell_type": "markdown",
   "metadata": {},
   "source": [
    "# Data Reading"
   ]
  },
  {
   "cell_type": "code",
   "execution_count": 196,
   "metadata": {},
   "outputs": [],
   "source": [
    "data = pd.read_csv(r'C:\\Users\\original comp\\Desktop\\IBM\\hotel_bookings.csv')"
   ]
  },
  {
   "cell_type": "code",
   "execution_count": 197,
   "metadata": {
    "scrolled": true
   },
   "outputs": [
    {
     "data": {
      "text/html": [
       "<div>\n",
       "<style scoped>\n",
       "    .dataframe tbody tr th:only-of-type {\n",
       "        vertical-align: middle;\n",
       "    }\n",
       "\n",
       "    .dataframe tbody tr th {\n",
       "        vertical-align: top;\n",
       "    }\n",
       "\n",
       "    .dataframe thead th {\n",
       "        text-align: right;\n",
       "    }\n",
       "</style>\n",
       "<table border=\"1\" class=\"dataframe\">\n",
       "  <thead>\n",
       "    <tr style=\"text-align: right;\">\n",
       "      <th></th>\n",
       "      <th>hotel</th>\n",
       "      <th>is_canceled</th>\n",
       "      <th>lead_time</th>\n",
       "      <th>arrival_date_year</th>\n",
       "      <th>arrival_date_month</th>\n",
       "      <th>arrival_date_week_number</th>\n",
       "      <th>arrival_date_day_of_month</th>\n",
       "      <th>stays_in_weekend_nights</th>\n",
       "      <th>stays_in_week_nights</th>\n",
       "      <th>adults</th>\n",
       "      <th>...</th>\n",
       "      <th>deposit_type</th>\n",
       "      <th>agent</th>\n",
       "      <th>company</th>\n",
       "      <th>days_in_waiting_list</th>\n",
       "      <th>customer_type</th>\n",
       "      <th>adr</th>\n",
       "      <th>required_car_parking_spaces</th>\n",
       "      <th>total_of_special_requests</th>\n",
       "      <th>reservation_status</th>\n",
       "      <th>reservation_status_date</th>\n",
       "    </tr>\n",
       "  </thead>\n",
       "  <tbody>\n",
       "    <tr>\n",
       "      <th>0</th>\n",
       "      <td>Resort Hotel</td>\n",
       "      <td>0</td>\n",
       "      <td>342</td>\n",
       "      <td>2015</td>\n",
       "      <td>July</td>\n",
       "      <td>27</td>\n",
       "      <td>1</td>\n",
       "      <td>0</td>\n",
       "      <td>0</td>\n",
       "      <td>2</td>\n",
       "      <td>...</td>\n",
       "      <td>No Deposit</td>\n",
       "      <td>NaN</td>\n",
       "      <td>NaN</td>\n",
       "      <td>0</td>\n",
       "      <td>Transient</td>\n",
       "      <td>0.0</td>\n",
       "      <td>0</td>\n",
       "      <td>0</td>\n",
       "      <td>Check-Out</td>\n",
       "      <td>2015-07-01</td>\n",
       "    </tr>\n",
       "    <tr>\n",
       "      <th>1</th>\n",
       "      <td>Resort Hotel</td>\n",
       "      <td>0</td>\n",
       "      <td>737</td>\n",
       "      <td>2015</td>\n",
       "      <td>July</td>\n",
       "      <td>27</td>\n",
       "      <td>1</td>\n",
       "      <td>0</td>\n",
       "      <td>0</td>\n",
       "      <td>2</td>\n",
       "      <td>...</td>\n",
       "      <td>No Deposit</td>\n",
       "      <td>NaN</td>\n",
       "      <td>NaN</td>\n",
       "      <td>0</td>\n",
       "      <td>Transient</td>\n",
       "      <td>0.0</td>\n",
       "      <td>0</td>\n",
       "      <td>0</td>\n",
       "      <td>Check-Out</td>\n",
       "      <td>2015-07-01</td>\n",
       "    </tr>\n",
       "    <tr>\n",
       "      <th>2</th>\n",
       "      <td>Resort Hotel</td>\n",
       "      <td>0</td>\n",
       "      <td>7</td>\n",
       "      <td>2015</td>\n",
       "      <td>July</td>\n",
       "      <td>27</td>\n",
       "      <td>1</td>\n",
       "      <td>0</td>\n",
       "      <td>1</td>\n",
       "      <td>1</td>\n",
       "      <td>...</td>\n",
       "      <td>No Deposit</td>\n",
       "      <td>NaN</td>\n",
       "      <td>NaN</td>\n",
       "      <td>0</td>\n",
       "      <td>Transient</td>\n",
       "      <td>75.0</td>\n",
       "      <td>0</td>\n",
       "      <td>0</td>\n",
       "      <td>Check-Out</td>\n",
       "      <td>2015-07-02</td>\n",
       "    </tr>\n",
       "    <tr>\n",
       "      <th>3</th>\n",
       "      <td>Resort Hotel</td>\n",
       "      <td>0</td>\n",
       "      <td>13</td>\n",
       "      <td>2015</td>\n",
       "      <td>July</td>\n",
       "      <td>27</td>\n",
       "      <td>1</td>\n",
       "      <td>0</td>\n",
       "      <td>1</td>\n",
       "      <td>1</td>\n",
       "      <td>...</td>\n",
       "      <td>No Deposit</td>\n",
       "      <td>304.0</td>\n",
       "      <td>NaN</td>\n",
       "      <td>0</td>\n",
       "      <td>Transient</td>\n",
       "      <td>75.0</td>\n",
       "      <td>0</td>\n",
       "      <td>0</td>\n",
       "      <td>Check-Out</td>\n",
       "      <td>2015-07-02</td>\n",
       "    </tr>\n",
       "    <tr>\n",
       "      <th>4</th>\n",
       "      <td>Resort Hotel</td>\n",
       "      <td>0</td>\n",
       "      <td>14</td>\n",
       "      <td>2015</td>\n",
       "      <td>July</td>\n",
       "      <td>27</td>\n",
       "      <td>1</td>\n",
       "      <td>0</td>\n",
       "      <td>2</td>\n",
       "      <td>2</td>\n",
       "      <td>...</td>\n",
       "      <td>No Deposit</td>\n",
       "      <td>240.0</td>\n",
       "      <td>NaN</td>\n",
       "      <td>0</td>\n",
       "      <td>Transient</td>\n",
       "      <td>98.0</td>\n",
       "      <td>0</td>\n",
       "      <td>1</td>\n",
       "      <td>Check-Out</td>\n",
       "      <td>2015-07-03</td>\n",
       "    </tr>\n",
       "  </tbody>\n",
       "</table>\n",
       "<p>5 rows × 32 columns</p>\n",
       "</div>"
      ],
      "text/plain": [
       "          hotel  is_canceled  lead_time  arrival_date_year arrival_date_month  \\\n",
       "0  Resort Hotel            0        342               2015               July   \n",
       "1  Resort Hotel            0        737               2015               July   \n",
       "2  Resort Hotel            0          7               2015               July   \n",
       "3  Resort Hotel            0         13               2015               July   \n",
       "4  Resort Hotel            0         14               2015               July   \n",
       "\n",
       "   arrival_date_week_number  arrival_date_day_of_month  \\\n",
       "0                        27                          1   \n",
       "1                        27                          1   \n",
       "2                        27                          1   \n",
       "3                        27                          1   \n",
       "4                        27                          1   \n",
       "\n",
       "   stays_in_weekend_nights  stays_in_week_nights  adults  ...  deposit_type  \\\n",
       "0                        0                     0       2  ...    No Deposit   \n",
       "1                        0                     0       2  ...    No Deposit   \n",
       "2                        0                     1       1  ...    No Deposit   \n",
       "3                        0                     1       1  ...    No Deposit   \n",
       "4                        0                     2       2  ...    No Deposit   \n",
       "\n",
       "   agent company days_in_waiting_list customer_type   adr  \\\n",
       "0    NaN     NaN                    0     Transient   0.0   \n",
       "1    NaN     NaN                    0     Transient   0.0   \n",
       "2    NaN     NaN                    0     Transient  75.0   \n",
       "3  304.0     NaN                    0     Transient  75.0   \n",
       "4  240.0     NaN                    0     Transient  98.0   \n",
       "\n",
       "   required_car_parking_spaces  total_of_special_requests  reservation_status  \\\n",
       "0                            0                          0           Check-Out   \n",
       "1                            0                          0           Check-Out   \n",
       "2                            0                          0           Check-Out   \n",
       "3                            0                          0           Check-Out   \n",
       "4                            0                          1           Check-Out   \n",
       "\n",
       "  reservation_status_date  \n",
       "0              2015-07-01  \n",
       "1              2015-07-01  \n",
       "2              2015-07-02  \n",
       "3              2015-07-02  \n",
       "4              2015-07-03  \n",
       "\n",
       "[5 rows x 32 columns]"
      ]
     },
     "execution_count": 197,
     "metadata": {},
     "output_type": "execute_result"
    }
   ],
   "source": [
    "data.head()"
   ]
  },
  {
   "cell_type": "markdown",
   "metadata": {},
   "source": [
    "# Information about the Data"
   ]
  },
  {
   "cell_type": "code",
   "execution_count": 198,
   "metadata": {},
   "outputs": [
    {
     "data": {
      "text/plain": [
       "(119390, 32)"
      ]
     },
     "execution_count": 198,
     "metadata": {},
     "output_type": "execute_result"
    }
   ],
   "source": [
    "data.shape"
   ]
  },
  {
   "cell_type": "markdown",
   "metadata": {},
   "source": [
    "we found that data consists of(11930 raws & 32 Columns)"
   ]
  },
  {
   "cell_type": "code",
   "execution_count": 199,
   "metadata": {
    "scrolled": true
   },
   "outputs": [
    {
     "name": "stdout",
     "output_type": "stream",
     "text": [
      "<class 'pandas.core.frame.DataFrame'>\n",
      "RangeIndex: 119390 entries, 0 to 119389\n",
      "Data columns (total 32 columns):\n",
      " #   Column                          Non-Null Count   Dtype  \n",
      "---  ------                          --------------   -----  \n",
      " 0   hotel                           119390 non-null  object \n",
      " 1   is_canceled                     119390 non-null  int64  \n",
      " 2   lead_time                       119390 non-null  int64  \n",
      " 3   arrival_date_year               119390 non-null  int64  \n",
      " 4   arrival_date_month              119390 non-null  object \n",
      " 5   arrival_date_week_number        119390 non-null  int64  \n",
      " 6   arrival_date_day_of_month       119390 non-null  int64  \n",
      " 7   stays_in_weekend_nights         119390 non-null  int64  \n",
      " 8   stays_in_week_nights            119390 non-null  int64  \n",
      " 9   adults                          119390 non-null  int64  \n",
      " 10  children                        119386 non-null  float64\n",
      " 11  babies                          119390 non-null  int64  \n",
      " 12  meal                            119390 non-null  object \n",
      " 13  country                         118902 non-null  object \n",
      " 14  market_segment                  119390 non-null  object \n",
      " 15  distribution_channel            119390 non-null  object \n",
      " 16  is_repeated_guest               119390 non-null  int64  \n",
      " 17  previous_cancellations          119390 non-null  int64  \n",
      " 18  previous_bookings_not_canceled  119390 non-null  int64  \n",
      " 19  reserved_room_type              119390 non-null  object \n",
      " 20  assigned_room_type              119390 non-null  object \n",
      " 21  booking_changes                 119390 non-null  int64  \n",
      " 22  deposit_type                    119390 non-null  object \n",
      " 23  agent                           103050 non-null  float64\n",
      " 24  company                         6797 non-null    float64\n",
      " 25  days_in_waiting_list            119390 non-null  int64  \n",
      " 26  customer_type                   119390 non-null  object \n",
      " 27  adr                             119390 non-null  float64\n",
      " 28  required_car_parking_spaces     119390 non-null  int64  \n",
      " 29  total_of_special_requests       119390 non-null  int64  \n",
      " 30  reservation_status              119390 non-null  object \n",
      " 31  reservation_status_date         119390 non-null  object \n",
      "dtypes: float64(4), int64(16), object(12)\n",
      "memory usage: 29.1+ MB\n"
     ]
    }
   ],
   "source": [
    "data.info()"
   ]
  },
  {
   "cell_type": "code",
   "execution_count": 200,
   "metadata": {},
   "outputs": [
    {
     "data": {
      "text/plain": [
       "['hotel',\n",
       " 'is_canceled',\n",
       " 'lead_time',\n",
       " 'arrival_date_year',\n",
       " 'arrival_date_month',\n",
       " 'arrival_date_week_number',\n",
       " 'arrival_date_day_of_month',\n",
       " 'stays_in_weekend_nights',\n",
       " 'stays_in_week_nights',\n",
       " 'adults',\n",
       " 'children',\n",
       " 'babies',\n",
       " 'meal',\n",
       " 'country',\n",
       " 'market_segment',\n",
       " 'distribution_channel',\n",
       " 'is_repeated_guest',\n",
       " 'previous_cancellations',\n",
       " 'previous_bookings_not_canceled',\n",
       " 'reserved_room_type',\n",
       " 'assigned_room_type',\n",
       " 'booking_changes',\n",
       " 'deposit_type',\n",
       " 'agent',\n",
       " 'company',\n",
       " 'days_in_waiting_list',\n",
       " 'customer_type',\n",
       " 'adr',\n",
       " 'required_car_parking_spaces',\n",
       " 'total_of_special_requests',\n",
       " 'reservation_status',\n",
       " 'reservation_status_date']"
      ]
     },
     "execution_count": 200,
     "metadata": {},
     "output_type": "execute_result"
    }
   ],
   "source": [
    "data.columns.tolist()"
   ]
  },
  {
   "cell_type": "markdown",
   "metadata": {},
   "source": [
    "# Data cleaning"
   ]
  },
  {
   "cell_type": "markdown",
   "metadata": {},
   "source": [
    "# Dealing With outliers"
   ]
  },
  {
   "cell_type": "code",
   "execution_count": 201,
   "metadata": {
    "scrolled": true
   },
   "outputs": [
    {
     "data": {
      "text/plain": [
       "<AxesSubplot:>"
      ]
     },
     "execution_count": 201,
     "metadata": {},
     "output_type": "execute_result"
    },
    {
     "data": {
      "image/png": "[encoded data removed]",
      "text/plain": [
       "<Figure size 432x288 with 1 Axes>"
      ]
     },
     "metadata": {
      "needs_background": "light"
     },
     "output_type": "display_data"
    }
   ],
   "source": [
    "\n",
    "sns.boxplot( data = data['children'])"
   ]
  },
  {
   "cell_type": "code",
   "execution_count": 202,
   "metadata": {},
   "outputs": [
    {
     "data": {
      "text/plain": [
       "0.0     110796\n",
       "1.0       4861\n",
       "2.0       3652\n",
       "3.0         76\n",
       "10.0         1\n",
       "Name: children, dtype: int64"
      ]
     },
     "execution_count": 202,
     "metadata": {},
     "output_type": "execute_result"
    }
   ],
   "source": [
    "data['children'].value_counts()"
   ]
  },
  {
   "cell_type": "code",
   "execution_count": 203,
   "metadata": {},
   "outputs": [
    {
     "data": {
      "text/plain": [
       "<AxesSubplot:xlabel='children', ylabel='Density'>"
      ]
     },
     "execution_count": 203,
     "metadata": {},
     "output_type": "execute_result"
    },
    {
     "data": {
      "image/png": "[encoded data removed]",
      "text/plain": [
       "<Figure size 432x288 with 1 Axes>"
      ]
     },
     "metadata": {
      "needs_background": "light"
     },
     "output_type": "display_data"
    }
   ],
   "source": [
    "sns.histplot(data['children'], kde=True, stat='density' ,color='red', bins = 20)"
   ]
  },
  {
   "cell_type": "code",
   "execution_count": 204,
   "metadata": {},
   "outputs": [
    {
     "name": "stdout",
     "output_type": "stream",
     "text": [
      "min = nan\n",
      "q25 = nan\n",
      "q50 = nan\n",
      "q75 = nan\n",
      "max = nan\n"
     ]
    }
   ],
   "source": [
    "q25, q50, q75 = np.percentile(data['children'], [25, 50, 75])\n",
    "iqr = q75 - q50\n",
    "minn = q25 - 1.5 * (iqr)\n",
    "maxx = q75 + 1.5 * (iqr)\n",
    "\n",
    "print('min =',minn)\n",
    "print('q25 =',q25)\n",
    "print('q50 =',q50)\n",
    "print('q75 =',q75)\n",
    "print('max =',maxx)"
   ]
  },
  {
   "cell_type": "code",
   "execution_count": 205,
   "metadata": {},
   "outputs": [
    {
     "data": {
      "text/html": [
       "<div>\n",
       "<style scoped>\n",
       "    .dataframe tbody tr th:only-of-type {\n",
       "        vertical-align: middle;\n",
       "    }\n",
       "\n",
       "    .dataframe tbody tr th {\n",
       "        vertical-align: top;\n",
       "    }\n",
       "\n",
       "    .dataframe thead th {\n",
       "        text-align: right;\n",
       "    }\n",
       "</style>\n",
       "<table border=\"1\" class=\"dataframe\">\n",
       "  <thead>\n",
       "    <tr style=\"text-align: right;\">\n",
       "      <th></th>\n",
       "      <th>hotel</th>\n",
       "      <th>is_canceled</th>\n",
       "      <th>lead_time</th>\n",
       "      <th>arrival_date_year</th>\n",
       "      <th>arrival_date_month</th>\n",
       "      <th>arrival_date_week_number</th>\n",
       "      <th>arrival_date_day_of_month</th>\n",
       "      <th>stays_in_weekend_nights</th>\n",
       "      <th>stays_in_week_nights</th>\n",
       "      <th>adults</th>\n",
       "      <th>...</th>\n",
       "      <th>deposit_type</th>\n",
       "      <th>agent</th>\n",
       "      <th>company</th>\n",
       "      <th>days_in_waiting_list</th>\n",
       "      <th>customer_type</th>\n",
       "      <th>adr</th>\n",
       "      <th>required_car_parking_spaces</th>\n",
       "      <th>total_of_special_requests</th>\n",
       "      <th>reservation_status</th>\n",
       "      <th>reservation_status_date</th>\n",
       "    </tr>\n",
       "  </thead>\n",
       "  <tbody>\n",
       "    <tr>\n",
       "      <th>328</th>\n",
       "      <td>Resort Hotel</td>\n",
       "      <td>1</td>\n",
       "      <td>55</td>\n",
       "      <td>2015</td>\n",
       "      <td>July</td>\n",
       "      <td>29</td>\n",
       "      <td>12</td>\n",
       "      <td>4</td>\n",
       "      <td>10</td>\n",
       "      <td>2</td>\n",
       "      <td>...</td>\n",
       "      <td>No Deposit</td>\n",
       "      <td>8.0</td>\n",
       "      <td>NaN</td>\n",
       "      <td>0</td>\n",
       "      <td>Contract</td>\n",
       "      <td>133.16</td>\n",
       "      <td>0</td>\n",
       "      <td>1</td>\n",
       "      <td>No-Show</td>\n",
       "      <td>2015-07-12</td>\n",
       "    </tr>\n",
       "  </tbody>\n",
       "</table>\n",
       "<p>1 rows × 32 columns</p>\n",
       "</div>"
      ],
      "text/plain": [
       "            hotel  is_canceled  lead_time  arrival_date_year  \\\n",
       "328  Resort Hotel            1         55               2015   \n",
       "\n",
       "    arrival_date_month  arrival_date_week_number  arrival_date_day_of_month  \\\n",
       "328               July                        29                         12   \n",
       "\n",
       "     stays_in_weekend_nights  stays_in_week_nights  adults  ...  deposit_type  \\\n",
       "328                        4                    10       2  ...    No Deposit   \n",
       "\n",
       "     agent company days_in_waiting_list customer_type     adr  \\\n",
       "328    8.0     NaN                    0      Contract  133.16   \n",
       "\n",
       "     required_car_parking_spaces  total_of_special_requests  \\\n",
       "328                            0                          1   \n",
       "\n",
       "     reservation_status reservation_status_date  \n",
       "328             No-Show              2015-07-12  \n",
       "\n",
       "[1 rows x 32 columns]"
      ]
     },
     "execution_count": 205,
     "metadata": {},
     "output_type": "execute_result"
    }
   ],
   "source": [
    "data[data['children']>3]"
   ]
  },
  {
   "cell_type": "code",
   "execution_count": 206,
   "metadata": {},
   "outputs": [],
   "source": [
    "data.drop(index = 328 , inplace = True)"
   ]
  },
  {
   "cell_type": "markdown",
   "metadata": {},
   "source": [
    "## Dealing with duplicates"
   ]
  },
  {
   "cell_type": "code",
   "execution_count": 207,
   "metadata": {},
   "outputs": [
    {
     "data": {
      "text/plain": [
       "31994"
      ]
     },
     "execution_count": 207,
     "metadata": {},
     "output_type": "execute_result"
    }
   ],
   "source": [
    "data.duplicated().sum()"
   ]
  },
  {
   "cell_type": "code",
   "execution_count": 208,
   "metadata": {},
   "outputs": [],
   "source": [
    "data.drop_duplicates(inplace = True)"
   ]
  },
  {
   "cell_type": "markdown",
   "metadata": {},
   "source": [
    "## Dealing With Null-Values"
   ]
  },
  {
   "cell_type": "code",
   "execution_count": 209,
   "metadata": {
    "scrolled": true
   },
   "outputs": [
    {
     "data": {
      "text/plain": [
       "company                           82136\n",
       "agent                             12193\n",
       "country                             452\n",
       "children                              4\n",
       "lead_time                             0\n",
       "arrival_date_year                     0\n",
       "arrival_date_month                    0\n",
       "arrival_date_week_number              0\n",
       "is_canceled                           0\n",
       "market_segment                        0\n",
       "arrival_date_day_of_month             0\n",
       "stays_in_weekend_nights               0\n",
       "stays_in_week_nights                  0\n",
       "adults                                0\n",
       "babies                                0\n",
       "meal                                  0\n",
       "reservation_status_date               0\n",
       "distribution_channel                  0\n",
       "reservation_status                    0\n",
       "is_repeated_guest                     0\n",
       "previous_cancellations                0\n",
       "previous_bookings_not_canceled        0\n",
       "reserved_room_type                    0\n",
       "assigned_room_type                    0\n",
       "booking_changes                       0\n",
       "deposit_type                          0\n",
       "days_in_waiting_list                  0\n",
       "customer_type                         0\n",
       "adr                                   0\n",
       "required_car_parking_spaces           0\n",
       "total_of_special_requests             0\n",
       "hotel                                 0\n",
       "dtype: int64"
      ]
     },
     "execution_count": 209,
     "metadata": {},
     "output_type": "execute_result"
    }
   ],
   "source": [
    "data.isnull().sum().sort_values(ascending = False)"
   ]
  },
  {
   "cell_type": "markdown",
   "metadata": {},
   "source": [
    "we found most of 'company' data is missing & alot of 'agent' data is missing but these two columns are not important\n",
    "Moreover, we find a 4 missing data in'children'\n",
    "\n",
    "so we need to drop columns of('company' & 'agent') and fill missing  data in (children)"
   ]
  },
  {
   "cell_type": "code",
   "execution_count": 210,
   "metadata": {},
   "outputs": [],
   "source": [
    "data.drop(columns = ['company','agent'] , inplace=True)"
   ]
  },
  {
   "cell_type": "code",
   "execution_count": 211,
   "metadata": {},
   "outputs": [],
   "source": [
    "data['children'].fillna(value = np.mean(data['children']), inplace = True)"
   ]
  },
  {
   "cell_type": "code",
   "execution_count": 212,
   "metadata": {},
   "outputs": [
    {
     "data": {
      "text/plain": [
       "PRT    27452\n",
       "GBR    10433\n",
       "FRA     8837\n",
       "ESP     7252\n",
       "DEU     5387\n",
       "       ...  \n",
       "SMR        1\n",
       "NPL        1\n",
       "GUY        1\n",
       "VGB        1\n",
       "BDI        1\n",
       "Name: country, Length: 177, dtype: int64"
      ]
     },
     "execution_count": 212,
     "metadata": {},
     "output_type": "execute_result"
    }
   ],
   "source": [
    "data['country'].value_counts()"
   ]
  },
  {
   "cell_type": "code",
   "execution_count": 213,
   "metadata": {},
   "outputs": [],
   "source": [
    "data['country'].fillna('PRT', inplace = True)"
   ]
  },
  {
   "cell_type": "code",
   "execution_count": 214,
   "metadata": {},
   "outputs": [
    {
     "data": {
      "text/plain": [
       "0"
      ]
     },
     "execution_count": 214,
     "metadata": {},
     "output_type": "execute_result"
    }
   ],
   "source": [
    "data.isnull().sum().sum()"
   ]
  },
  {
   "cell_type": "markdown",
   "metadata": {},
   "source": [
    "  Now, data is cleaning from (missing & duplicated & outlier) Values\n",
    "-  Let's make some of exploratory data Analysis"
   ]
  },
  {
   "cell_type": "markdown",
   "metadata": {},
   "source": [
    "# Some of Data Analysis"
   ]
  },
  {
   "cell_type": "code",
   "execution_count": 215,
   "metadata": {},
   "outputs": [
    {
     "data": {
      "text/plain": [
       "Check-Out    63371\n",
       "Canceled     23011\n",
       "No-Show       1013\n",
       "Name: reservation_status, dtype: int64"
      ]
     },
     "execution_count": 215,
     "metadata": {},
     "output_type": "execute_result"
    }
   ],
   "source": [
    "data['reservation_status'].value_counts()"
   ]
  },
  {
   "cell_type": "code",
   "execution_count": 216,
   "metadata": {},
   "outputs": [
    {
     "data": {
      "image/png": "[encoded data removed]",
      "text/plain": [
       "<Figure size 432x288 with 1 Axes>"
      ]
     },
     "metadata": {
      "needs_background": "light"
     },
     "output_type": "display_data"
    }
   ],
   "source": [
    "plt.hist(data['reservation_status'])\n",
    "plt.show()"
   ]
  },
  {
   "cell_type": "markdown",
   "metadata": {},
   "source": [
    "## Where do the guests come from?"
   ]
  },
  {
   "cell_type": "code",
   "execution_count": 217,
   "metadata": {},
   "outputs": [
    {
     "data": {
      "text/plain": [
       "PRT    27904\n",
       "GBR    10433\n",
       "FRA     8837\n",
       "ESP     7252\n",
       "DEU     5387\n",
       "       ...  \n",
       "SMR        1\n",
       "NPL        1\n",
       "GUY        1\n",
       "VGB        1\n",
       "BDI        1\n",
       "Name: country, Length: 177, dtype: int64"
      ]
     },
     "execution_count": 217,
     "metadata": {},
     "output_type": "execute_result"
    }
   ],
   "source": [
    "data['country'].value_counts()"
   ]
  },
  {
   "cell_type": "code",
   "execution_count": 248,
   "metadata": {},
   "outputs": [
    {
     "data": {
      "image/png": "[encoded data removed]",
      "text/plain": [
       "<Figure size 432x288 with 1 Axes>"
      ]
     },
     "metadata": {},
     "output_type": "display_data"
    }
   ],
   "source": [
    "plt.pie(data['country'].value_counts() )\n",
    "plt.legend(data['country'].value_counts().index[:12], bbox_to_anchor=(0.3, 1),ncol=4)\n",
    "plt.show()"
   ]
  },
  {
   "cell_type": "markdown",
   "metadata": {},
   "source": [
    "## What is the year that has more Visitors ?"
   ]
  },
  {
   "cell_type": "code",
   "execution_count": 249,
   "metadata": {},
   "outputs": [
    {
     "data": {
      "text/plain": [
       "array([2015, 2016, 2017], dtype=int64)"
      ]
     },
     "execution_count": 249,
     "metadata": {},
     "output_type": "execute_result"
    }
   ],
   "source": [
    "data['arrival_date_year'].unique()"
   ]
  },
  {
   "cell_type": "code",
   "execution_count": 250,
   "metadata": {},
   "outputs": [
    {
     "data": {
      "text/plain": [
       "2016    42391\n",
       "2017    31692\n",
       "2015    13312\n",
       "Name: arrival_date_year, dtype: int64"
      ]
     },
     "execution_count": 250,
     "metadata": {},
     "output_type": "execute_result"
    }
   ],
   "source": [
    "data['arrival_date_year'].value_counts()"
   ]
  },
  {
   "cell_type": "code",
   "execution_count": 251,
   "metadata": {},
   "outputs": [
    {
     "data": {
      "image/png": "[encoded data removed]",
      "text/plain": [
       "<Figure size 432x288 with 1 Axes>"
      ]
     },
     "metadata": {},
     "output_type": "display_data"
    }
   ],
   "source": [
    "plt.pie(data['arrival_date_year'].value_counts(), labels =data['arrival_date_year'].value_counts().index )\n",
    "plt.show()"
   ]
  },
  {
   "cell_type": "markdown",
   "metadata": {},
   "source": [
    "## What is the best month to visit the Hotel"
   ]
  },
  {
   "cell_type": "code",
   "execution_count": 252,
   "metadata": {},
   "outputs": [
    {
     "data": {
      "text/plain": [
       "August       11257\n",
       "July         10056\n",
       "May           8355\n",
       "April         7908\n",
       "June          7765\n",
       "March         7513\n",
       "October       6934\n",
       "September     6690\n",
       "February      6098\n",
       "December      5131\n",
       "November      4995\n",
       "January       4693\n",
       "Name: arrival_date_month, dtype: int64"
      ]
     },
     "execution_count": 252,
     "metadata": {},
     "output_type": "execute_result"
    }
   ],
   "source": [
    "data['arrival_date_month'].value_counts()"
   ]
  },
  {
   "cell_type": "code",
   "execution_count": 281,
   "metadata": {},
   "outputs": [
    {
     "data": {
      "image/png": "[encoded data removed]",
      "text/plain": [
       "<Figure size 432x288 with 1 Axes>"
      ]
     },
     "metadata": {
      "needs_background": "light"
     },
     "output_type": "display_data"
    }
   ],
   "source": [
    "plt.hist(data['arrival_date_month'], bins = 12, color = 'r')\n",
    "plt.xticks(rotation=45)\n",
    "plt.show()"
   ]
  },
  {
   "cell_type": "code",
   "execution_count": 254,
   "metadata": {},
   "outputs": [
    {
     "data": {
      "text/plain": [
       "Check-Out    63371\n",
       "Canceled     23011\n",
       "No-Show       1013\n",
       "Name: reservation_status, dtype: int64"
      ]
     },
     "execution_count": 254,
     "metadata": {},
     "output_type": "execute_result"
    }
   ],
   "source": [
    "data['reservation_status'].value_counts()"
   ]
  },
  {
   "cell_type": "code",
   "execution_count": 255,
   "metadata": {
    "scrolled": true
   },
   "outputs": [
    {
     "data": {
      "image/png": "[encoded data removed]",
      "text/plain": [
       "<Figure size 432x288 with 1 Axes>"
      ]
     },
     "metadata": {
      "needs_background": "light"
     },
     "output_type": "display_data"
    }
   ],
   "source": [
    "plt.hist(data['reservation_status'],color = 'g')\n",
    "plt.show()"
   ]
  },
  {
   "cell_type": "markdown",
   "metadata": {},
   "source": [
    "## How much do guests pay for a room per night?"
   ]
  },
  {
   "cell_type": "code",
   "execution_count": 306,
   "metadata": {},
   "outputs": [],
   "source": [
    "data[\"adr_per_one\"] =data[\"adr\"] / (data[\"adults\"] + data[\"children\"])\n",
    "full_data_guests = data[data['is_canceled']==0]\n",
    "room_prices = full_data_guests[[\"hotel\", \"reserved_room_type\", \"adr_per_one\"]].sort_values(\"reserved_room_type\")"
   ]
  },
  {
   "cell_type": "code",
   "execution_count": 307,
   "metadata": {},
   "outputs": [
    {
     "data": {
      "image/png": "[encoded data removed]",
      "text/plain": [
       "<Figure size 864x576 with 1 Axes>"
      ]
     },
     "metadata": {
      "needs_background": "light"
     },
     "output_type": "display_data"
    }
   ],
   "source": [
    "plt.figure(figsize=(12, 8))\n",
    "sns.boxplot(x=\"reserved_room_type\",\n",
    "            y=\"adr_per_one\",\n",
    "            hue=\"hotel\",\n",
    "            data=room_prices, \n",
    "            hue_order=[\"City Hotel\", \"Resort Hotel\"],\n",
    "            fliersize=0)\n",
    "plt.title(\"Price of room types per night and person\", fontsize=16)\n",
    "plt.xlabel(\"Room type\", fontsize=16)\n",
    "plt.ylabel(\"Price [EUR]\", fontsize=16)\n",
    "plt.legend(loc=\"upper right\")\n",
    "plt.ylim(0, 160)\n",
    "plt.show()"
   ]
  },
  {
   "cell_type": "markdown",
   "metadata": {},
   "source": [
    "## How does the price per night vary over the year?¶\n"
   ]
  },
  {
   "cell_type": "code",
   "execution_count": 311,
   "metadata": {},
   "outputs": [],
   "source": [
    "room_prices_mothly = full_data_guests[[\"hotel\", \"arrival_date_month\", \"adr_per_one\"]].sort_values(\"arrival_date_month\")\n",
    "\n",
    "# order by month:\n",
    "ordered_months = [\"January\", \"February\", \"March\", \"April\", \"May\", \"June\", \n",
    "          \"July\", \"August\", \"September\", \"October\", \"November\", \"December\"]\n",
    "room_prices_mothly[\"arrival_date_month\"] = pd.Categorical(room_prices_mothly[\"arrival_date_month\"], categories=ordered_months, ordered=True)"
   ]
  },
  {
   "cell_type": "code",
   "execution_count": 312,
   "metadata": {
    "scrolled": false
   },
   "outputs": [
    {
     "data": {
      "image/png": "[encoded data removed]",
      "text/plain": [
       "<Figure size 864x576 with 1 Axes>"
      ]
     },
     "metadata": {
      "needs_background": "light"
     },
     "output_type": "display_data"
    }
   ],
   "source": [
    "plt.figure(figsize=(12, 8))\n",
    "sns.lineplot(x = \"arrival_date_month\", y=\"adr_per_one\", hue=\"hotel\", data=room_prices_mothly, \n",
    "            hue_order = [\"City Hotel\", \"Resort Hotel\"], ci=\"sd\", size=\"hotel\", sizes=(2.5, 2.5))\n",
    "plt.title(\"Room price per night and person over the year\", fontsize=16)\n",
    "plt.xlabel(\"Month\", fontsize=16)\n",
    "plt.xticks(rotation=45)\n",
    "plt.ylabel(\"Price [EUR]\", fontsize=16)\n",
    "plt.show()"
   ]
  },
  {
   "cell_type": "markdown",
   "metadata": {},
   "source": [
    "## How many bookings were canceled?\n"
   ]
  },
  {
   "cell_type": "code",
   "execution_count": 316,
   "metadata": {},
   "outputs": [
    {
     "name": "stdout",
     "output_type": "stream",
     "text": [
      "Total bookings canceled: 24,024 (27 %)\n",
      "Resort hotel bookings canceled: 7,975 (23 %)\n",
      "City hotel bookings canceled: 16,049 (30 %)\n"
     ]
    }
   ],
   "source": [
    "total_cancelations = data[\"is_canceled\"].sum()\n",
    "rh_cancelations = data.loc[data[\"hotel\"] == \"Resort Hotel\"][\"is_canceled\"].sum()\n",
    "ch_cancelations = data.loc[data[\"hotel\"] == \"City Hotel\"][\"is_canceled\"].sum()\n",
    "\n",
    "# as percent:\n",
    "rel_cancel = total_cancelations / data.shape[0] * 100\n",
    "rh_rel_cancel = rh_cancelations / data.loc[data[\"hotel\"] == \"Resort Hotel\"].shape[0] * 100\n",
    "ch_rel_cancel = ch_cancelations / data.loc[data[\"hotel\"] == \"City Hotel\"].shape[0] * 100\n",
    "\n",
    "print(f\"Total bookings canceled: {total_cancelations:,} ({rel_cancel:.0f} %)\")\n",
    "print(f\"Resort hotel bookings canceled: {rh_cancelations:,} ({rh_rel_cancel:.0f} %)\")\n",
    "print(f\"City hotel bookings canceled: {ch_cancelations:,} ({ch_rel_cancel:.0f} %)\")"
   ]
  },
  {
   "cell_type": "code",
   "execution_count": null,
   "metadata": {},
   "outputs": [],
   "source": []
  },
  {
   "cell_type": "markdown",
   "metadata": {},
   "source": [
    "# Exploratory Statistical Analysis"
   ]
  },
  {
   "cell_type": "code",
   "execution_count": 294,
   "metadata": {},
   "outputs": [
    {
     "data": {
      "text/html": [
       "<div>\n",
       "<style scoped>\n",
       "    .dataframe tbody tr th:only-of-type {\n",
       "        vertical-align: middle;\n",
       "    }\n",
       "\n",
       "    .dataframe tbody tr th {\n",
       "        vertical-align: top;\n",
       "    }\n",
       "\n",
       "    .dataframe thead th {\n",
       "        text-align: right;\n",
       "    }\n",
       "</style>\n",
       "<table border=\"1\" class=\"dataframe\">\n",
       "  <thead>\n",
       "    <tr style=\"text-align: right;\">\n",
       "      <th></th>\n",
       "      <th>is_canceled</th>\n",
       "      <th>lead_time</th>\n",
       "      <th>arrival_date_year</th>\n",
       "      <th>arrival_date_week_number</th>\n",
       "      <th>arrival_date_day_of_month</th>\n",
       "      <th>stays_in_weekend_nights</th>\n",
       "      <th>stays_in_week_nights</th>\n",
       "      <th>adults</th>\n",
       "      <th>children</th>\n",
       "      <th>babies</th>\n",
       "      <th>is_repeated_guest</th>\n",
       "      <th>previous_cancellations</th>\n",
       "      <th>previous_bookings_not_canceled</th>\n",
       "      <th>booking_changes</th>\n",
       "      <th>days_in_waiting_list</th>\n",
       "      <th>adr</th>\n",
       "      <th>required_car_parking_spaces</th>\n",
       "      <th>total_of_special_requests</th>\n",
       "      <th>adr_per_one</th>\n",
       "    </tr>\n",
       "  </thead>\n",
       "  <tbody>\n",
       "    <tr>\n",
       "      <th>count</th>\n",
       "      <td>87395.000000</td>\n",
       "      <td>87395.000000</td>\n",
       "      <td>87395.000000</td>\n",
       "      <td>87395.000000</td>\n",
       "      <td>87395.000000</td>\n",
       "      <td>87395.000000</td>\n",
       "      <td>87395.000000</td>\n",
       "      <td>87395.000000</td>\n",
       "      <td>87395.000000</td>\n",
       "      <td>87395.000000</td>\n",
       "      <td>87395.000000</td>\n",
       "      <td>87395.000000</td>\n",
       "      <td>87395.000000</td>\n",
       "      <td>87395.000000</td>\n",
       "      <td>87395.000000</td>\n",
       "      <td>87395.000000</td>\n",
       "      <td>87395.000000</td>\n",
       "      <td>87395.000000</td>\n",
       "      <td>87260.00</td>\n",
       "    </tr>\n",
       "    <tr>\n",
       "      <th>mean</th>\n",
       "      <td>0.274890</td>\n",
       "      <td>79.891653</td>\n",
       "      <td>2016.210310</td>\n",
       "      <td>26.838309</td>\n",
       "      <td>15.815584</td>\n",
       "      <td>1.005229</td>\n",
       "      <td>2.625310</td>\n",
       "      <td>1.875794</td>\n",
       "      <td>0.138527</td>\n",
       "      <td>0.010824</td>\n",
       "      <td>0.039075</td>\n",
       "      <td>0.030414</td>\n",
       "      <td>0.183992</td>\n",
       "      <td>0.271583</td>\n",
       "      <td>0.749574</td>\n",
       "      <td>106.336940</td>\n",
       "      <td>0.084227</td>\n",
       "      <td>0.698564</td>\n",
       "      <td>inf</td>\n",
       "    </tr>\n",
       "    <tr>\n",
       "      <th>std</th>\n",
       "      <td>0.446461</td>\n",
       "      <td>86.052776</td>\n",
       "      <td>0.686094</td>\n",
       "      <td>13.674648</td>\n",
       "      <td>8.835188</td>\n",
       "      <td>1.031877</td>\n",
       "      <td>2.053444</td>\n",
       "      <td>0.626504</td>\n",
       "      <td>0.454651</td>\n",
       "      <td>0.113597</td>\n",
       "      <td>0.193776</td>\n",
       "      <td>0.369147</td>\n",
       "      <td>1.731903</td>\n",
       "      <td>0.727226</td>\n",
       "      <td>10.015788</td>\n",
       "      <td>55.014193</td>\n",
       "      <td>0.281535</td>\n",
       "      <td>0.831950</td>\n",
       "      <td>NaN</td>\n",
       "    </tr>\n",
       "    <tr>\n",
       "      <th>min</th>\n",
       "      <td>0.000000</td>\n",
       "      <td>0.000000</td>\n",
       "      <td>2015.000000</td>\n",
       "      <td>1.000000</td>\n",
       "      <td>1.000000</td>\n",
       "      <td>0.000000</td>\n",
       "      <td>0.000000</td>\n",
       "      <td>0.000000</td>\n",
       "      <td>0.000000</td>\n",
       "      <td>0.000000</td>\n",
       "      <td>0.000000</td>\n",
       "      <td>0.000000</td>\n",
       "      <td>0.000000</td>\n",
       "      <td>0.000000</td>\n",
       "      <td>0.000000</td>\n",
       "      <td>-6.380000</td>\n",
       "      <td>0.000000</td>\n",
       "      <td>0.000000</td>\n",
       "      <td>-3.19</td>\n",
       "    </tr>\n",
       "    <tr>\n",
       "      <th>25%</th>\n",
       "      <td>0.000000</td>\n",
       "      <td>11.000000</td>\n",
       "      <td>2016.000000</td>\n",
       "      <td>16.000000</td>\n",
       "      <td>8.000000</td>\n",
       "      <td>0.000000</td>\n",
       "      <td>1.000000</td>\n",
       "      <td>2.000000</td>\n",
       "      <td>0.000000</td>\n",
       "      <td>0.000000</td>\n",
       "      <td>0.000000</td>\n",
       "      <td>0.000000</td>\n",
       "      <td>0.000000</td>\n",
       "      <td>0.000000</td>\n",
       "      <td>0.000000</td>\n",
       "      <td>72.000000</td>\n",
       "      <td>0.000000</td>\n",
       "      <td>0.000000</td>\n",
       "      <td>38.00</td>\n",
       "    </tr>\n",
       "    <tr>\n",
       "      <th>50%</th>\n",
       "      <td>0.000000</td>\n",
       "      <td>49.000000</td>\n",
       "      <td>2016.000000</td>\n",
       "      <td>27.000000</td>\n",
       "      <td>16.000000</td>\n",
       "      <td>1.000000</td>\n",
       "      <td>2.000000</td>\n",
       "      <td>2.000000</td>\n",
       "      <td>0.000000</td>\n",
       "      <td>0.000000</td>\n",
       "      <td>0.000000</td>\n",
       "      <td>0.000000</td>\n",
       "      <td>0.000000</td>\n",
       "      <td>0.000000</td>\n",
       "      <td>0.000000</td>\n",
       "      <td>98.100000</td>\n",
       "      <td>0.000000</td>\n",
       "      <td>0.000000</td>\n",
       "      <td>50.05</td>\n",
       "    </tr>\n",
       "    <tr>\n",
       "      <th>75%</th>\n",
       "      <td>1.000000</td>\n",
       "      <td>125.000000</td>\n",
       "      <td>2017.000000</td>\n",
       "      <td>37.000000</td>\n",
       "      <td>23.000000</td>\n",
       "      <td>2.000000</td>\n",
       "      <td>4.000000</td>\n",
       "      <td>2.000000</td>\n",
       "      <td>0.000000</td>\n",
       "      <td>0.000000</td>\n",
       "      <td>0.000000</td>\n",
       "      <td>0.000000</td>\n",
       "      <td>0.000000</td>\n",
       "      <td>0.000000</td>\n",
       "      <td>0.000000</td>\n",
       "      <td>134.000000</td>\n",
       "      <td>0.000000</td>\n",
       "      <td>1.000000</td>\n",
       "      <td>67.50</td>\n",
       "    </tr>\n",
       "    <tr>\n",
       "      <th>max</th>\n",
       "      <td>1.000000</td>\n",
       "      <td>737.000000</td>\n",
       "      <td>2017.000000</td>\n",
       "      <td>53.000000</td>\n",
       "      <td>31.000000</td>\n",
       "      <td>19.000000</td>\n",
       "      <td>50.000000</td>\n",
       "      <td>55.000000</td>\n",
       "      <td>3.000000</td>\n",
       "      <td>10.000000</td>\n",
       "      <td>1.000000</td>\n",
       "      <td>26.000000</td>\n",
       "      <td>72.000000</td>\n",
       "      <td>21.000000</td>\n",
       "      <td>391.000000</td>\n",
       "      <td>5400.000000</td>\n",
       "      <td>8.000000</td>\n",
       "      <td>5.000000</td>\n",
       "      <td>inf</td>\n",
       "    </tr>\n",
       "  </tbody>\n",
       "</table>\n",
       "</div>"
      ],
      "text/plain": [
       "        is_canceled     lead_time  arrival_date_year  \\\n",
       "count  87395.000000  87395.000000       87395.000000   \n",
       "mean       0.274890     79.891653        2016.210310   \n",
       "std        0.446461     86.052776           0.686094   \n",
       "min        0.000000      0.000000        2015.000000   \n",
       "25%        0.000000     11.000000        2016.000000   \n",
       "50%        0.000000     49.000000        2016.000000   \n",
       "75%        1.000000    125.000000        2017.000000   \n",
       "max        1.000000    737.000000        2017.000000   \n",
       "\n",
       "       arrival_date_week_number  arrival_date_day_of_month  \\\n",
       "count              87395.000000               87395.000000   \n",
       "mean                  26.838309                  15.815584   \n",
       "std                   13.674648                   8.835188   \n",
       "min                    1.000000                   1.000000   \n",
       "25%                   16.000000                   8.000000   \n",
       "50%                   27.000000                  16.000000   \n",
       "75%                   37.000000                  23.000000   \n",
       "max                   53.000000                  31.000000   \n",
       "\n",
       "       stays_in_weekend_nights  stays_in_week_nights        adults  \\\n",
       "count             87395.000000          87395.000000  87395.000000   \n",
       "mean                  1.005229              2.625310      1.875794   \n",
       "std                   1.031877              2.053444      0.626504   \n",
       "min                   0.000000              0.000000      0.000000   \n",
       "25%                   0.000000              1.000000      2.000000   \n",
       "50%                   1.000000              2.000000      2.000000   \n",
       "75%                   2.000000              4.000000      2.000000   \n",
       "max                  19.000000             50.000000     55.000000   \n",
       "\n",
       "           children        babies  is_repeated_guest  previous_cancellations  \\\n",
       "count  87395.000000  87395.000000       87395.000000            87395.000000   \n",
       "mean       0.138527      0.010824           0.039075                0.030414   \n",
       "std        0.454651      0.113597           0.193776                0.369147   \n",
       "min        0.000000      0.000000           0.000000                0.000000   \n",
       "25%        0.000000      0.000000           0.000000                0.000000   \n",
       "50%        0.000000      0.000000           0.000000                0.000000   \n",
       "75%        0.000000      0.000000           0.000000                0.000000   \n",
       "max        3.000000     10.000000           1.000000               26.000000   \n",
       "\n",
       "       previous_bookings_not_canceled  booking_changes  days_in_waiting_list  \\\n",
       "count                    87395.000000     87395.000000          87395.000000   \n",
       "mean                         0.183992         0.271583              0.749574   \n",
       "std                          1.731903         0.727226             10.015788   \n",
       "min                          0.000000         0.000000              0.000000   \n",
       "25%                          0.000000         0.000000              0.000000   \n",
       "50%                          0.000000         0.000000              0.000000   \n",
       "75%                          0.000000         0.000000              0.000000   \n",
       "max                         72.000000        21.000000            391.000000   \n",
       "\n",
       "                adr  required_car_parking_spaces  total_of_special_requests  \\\n",
       "count  87395.000000                 87395.000000               87395.000000   \n",
       "mean     106.336940                     0.084227                   0.698564   \n",
       "std       55.014193                     0.281535                   0.831950   \n",
       "min       -6.380000                     0.000000                   0.000000   \n",
       "25%       72.000000                     0.000000                   0.000000   \n",
       "50%       98.100000                     0.000000                   0.000000   \n",
       "75%      134.000000                     0.000000                   1.000000   \n",
       "max     5400.000000                     8.000000                   5.000000   \n",
       "\n",
       "       adr_per_one  \n",
       "count     87260.00  \n",
       "mean           inf  \n",
       "std            NaN  \n",
       "min          -3.19  \n",
       "25%          38.00  \n",
       "50%          50.05  \n",
       "75%          67.50  \n",
       "max            inf  "
      ]
     },
     "execution_count": 294,
     "metadata": {},
     "output_type": "execute_result"
    }
   ],
   "source": [
    "data.describe()"
   ]
  },
  {
   "cell_type": "markdown",
   "metadata": {},
   "source": [
    "# Exploratory Data Analysis"
   ]
  },
  {
   "cell_type": "code",
   "execution_count": 295,
   "metadata": {},
   "outputs": [
    {
     "data": {
      "text/html": [
       "<div>\n",
       "<style scoped>\n",
       "    .dataframe tbody tr th:only-of-type {\n",
       "        vertical-align: middle;\n",
       "    }\n",
       "\n",
       "    .dataframe tbody tr th {\n",
       "        vertical-align: top;\n",
       "    }\n",
       "\n",
       "    .dataframe thead th {\n",
       "        text-align: right;\n",
       "    }\n",
       "</style>\n",
       "<table border=\"1\" class=\"dataframe\">\n",
       "  <thead>\n",
       "    <tr style=\"text-align: right;\">\n",
       "      <th></th>\n",
       "      <th>is_canceled</th>\n",
       "      <th>lead_time</th>\n",
       "      <th>arrival_date_year</th>\n",
       "      <th>arrival_date_week_number</th>\n",
       "      <th>arrival_date_day_of_month</th>\n",
       "      <th>stays_in_weekend_nights</th>\n",
       "      <th>stays_in_week_nights</th>\n",
       "      <th>adults</th>\n",
       "      <th>children</th>\n",
       "      <th>babies</th>\n",
       "      <th>is_repeated_guest</th>\n",
       "      <th>previous_cancellations</th>\n",
       "      <th>previous_bookings_not_canceled</th>\n",
       "      <th>booking_changes</th>\n",
       "      <th>days_in_waiting_list</th>\n",
       "      <th>adr</th>\n",
       "      <th>required_car_parking_spaces</th>\n",
       "      <th>total_of_special_requests</th>\n",
       "      <th>adr_per_one</th>\n",
       "    </tr>\n",
       "  </thead>\n",
       "  <tbody>\n",
       "    <tr>\n",
       "      <th>is_canceled</th>\n",
       "      <td>1.000000</td>\n",
       "      <td>0.184814</td>\n",
       "      <td>0.088066</td>\n",
       "      <td>0.001440</td>\n",
       "      <td>0.005336</td>\n",
       "      <td>0.060141</td>\n",
       "      <td>0.082869</td>\n",
       "      <td>0.081814</td>\n",
       "      <td>0.067171</td>\n",
       "      <td>-0.020541</td>\n",
       "      <td>-0.089640</td>\n",
       "      <td>0.051470</td>\n",
       "      <td>-0.052152</td>\n",
       "      <td>-0.093692</td>\n",
       "      <td>0.004466</td>\n",
       "      <td>0.127979</td>\n",
       "      <td>-0.184204</td>\n",
       "      <td>-0.120554</td>\n",
       "      <td>0.051879</td>\n",
       "    </tr>\n",
       "    <tr>\n",
       "      <th>lead_time</th>\n",
       "      <td>0.184814</td>\n",
       "      <td>1.000000</td>\n",
       "      <td>0.139132</td>\n",
       "      <td>0.101151</td>\n",
       "      <td>0.009865</td>\n",
       "      <td>0.235166</td>\n",
       "      <td>0.310164</td>\n",
       "      <td>0.140494</td>\n",
       "      <td>0.028786</td>\n",
       "      <td>-0.003614</td>\n",
       "      <td>-0.147004</td>\n",
       "      <td>0.005374</td>\n",
       "      <td>-0.078932</td>\n",
       "      <td>0.077038</td>\n",
       "      <td>0.132152</td>\n",
       "      <td>0.023566</td>\n",
       "      <td>-0.086542</td>\n",
       "      <td>0.034241</td>\n",
       "      <td>-0.085087</td>\n",
       "    </tr>\n",
       "    <tr>\n",
       "      <th>arrival_date_year</th>\n",
       "      <td>0.088066</td>\n",
       "      <td>0.139132</td>\n",
       "      <td>1.000000</td>\n",
       "      <td>-0.514234</td>\n",
       "      <td>-0.010032</td>\n",
       "      <td>0.005203</td>\n",
       "      <td>0.003718</td>\n",
       "      <td>0.038624</td>\n",
       "      <td>0.041683</td>\n",
       "      <td>-0.023336</td>\n",
       "      <td>0.024339</td>\n",
       "      <td>-0.054215</td>\n",
       "      <td>0.027254</td>\n",
       "      <td>0.008653</td>\n",
       "      <td>-0.027941</td>\n",
       "      <td>0.176102</td>\n",
       "      <td>-0.039813</td>\n",
       "      <td>0.064277</td>\n",
       "      <td>0.117677</td>\n",
       "    </tr>\n",
       "    <tr>\n",
       "      <th>arrival_date_week_number</th>\n",
       "      <td>0.001440</td>\n",
       "      <td>0.101151</td>\n",
       "      <td>-0.514234</td>\n",
       "      <td>1.000000</td>\n",
       "      <td>0.093595</td>\n",
       "      <td>0.026864</td>\n",
       "      <td>0.027797</td>\n",
       "      <td>0.024361</td>\n",
       "      <td>0.013453</td>\n",
       "      <td>0.014260</td>\n",
       "      <td>-0.036859</td>\n",
       "      <td>0.007199</td>\n",
       "      <td>-0.020819</td>\n",
       "      <td>0.011898</td>\n",
       "      <td>0.013843</td>\n",
       "      <td>0.098279</td>\n",
       "      <td>0.008947</td>\n",
       "      <td>0.046598</td>\n",
       "      <td>0.078481</td>\n",
       "    </tr>\n",
       "    <tr>\n",
       "      <th>arrival_date_day_of_month</th>\n",
       "      <td>0.005336</td>\n",
       "      <td>0.009865</td>\n",
       "      <td>-0.010032</td>\n",
       "      <td>0.093595</td>\n",
       "      <td>1.000000</td>\n",
       "      <td>-0.017789</td>\n",
       "      <td>-0.028174</td>\n",
       "      <td>-0.001124</td>\n",
       "      <td>0.015956</td>\n",
       "      <td>-0.000394</td>\n",
       "      <td>-0.004179</td>\n",
       "      <td>-0.008539</td>\n",
       "      <td>0.000151</td>\n",
       "      <td>0.006319</td>\n",
       "      <td>0.006588</td>\n",
       "      <td>0.022593</td>\n",
       "      <td>0.009166</td>\n",
       "      <td>-0.001649</td>\n",
       "      <td>0.016392</td>\n",
       "    </tr>\n",
       "    <tr>\n",
       "      <th>stays_in_weekend_nights</th>\n",
       "      <td>0.060141</td>\n",
       "      <td>0.235166</td>\n",
       "      <td>0.005203</td>\n",
       "      <td>0.026864</td>\n",
       "      <td>-0.017789</td>\n",
       "      <td>1.000000</td>\n",
       "      <td>0.555500</td>\n",
       "      <td>0.088282</td>\n",
       "      <td>0.027916</td>\n",
       "      <td>0.013671</td>\n",
       "      <td>-0.106947</td>\n",
       "      <td>-0.020634</td>\n",
       "      <td>-0.056652</td>\n",
       "      <td>0.050241</td>\n",
       "      <td>-0.031679</td>\n",
       "      <td>0.038958</td>\n",
       "      <td>-0.042912</td>\n",
       "      <td>0.032386</td>\n",
       "      <td>-0.040574</td>\n",
       "    </tr>\n",
       "    <tr>\n",
       "      <th>stays_in_week_nights</th>\n",
       "      <td>0.082869</td>\n",
       "      <td>0.310164</td>\n",
       "      <td>0.003718</td>\n",
       "      <td>0.027797</td>\n",
       "      <td>-0.028174</td>\n",
       "      <td>0.555500</td>\n",
       "      <td>1.000000</td>\n",
       "      <td>0.095576</td>\n",
       "      <td>0.029670</td>\n",
       "      <td>0.016014</td>\n",
       "      <td>-0.113543</td>\n",
       "      <td>-0.018779</td>\n",
       "      <td>-0.058503</td>\n",
       "      <td>0.084955</td>\n",
       "      <td>0.001908</td>\n",
       "      <td>0.053282</td>\n",
       "      <td>-0.044294</td>\n",
       "      <td>0.037811</td>\n",
       "      <td>-0.037564</td>\n",
       "    </tr>\n",
       "    <tr>\n",
       "      <th>adults</th>\n",
       "      <td>0.081814</td>\n",
       "      <td>0.140494</td>\n",
       "      <td>0.038624</td>\n",
       "      <td>0.024361</td>\n",
       "      <td>-0.001124</td>\n",
       "      <td>0.088282</td>\n",
       "      <td>0.095576</td>\n",
       "      <td>1.000000</td>\n",
       "      <td>0.023735</td>\n",
       "      <td>0.016640</td>\n",
       "      <td>-0.171714</td>\n",
       "      <td>-0.042097</td>\n",
       "      <td>-0.120913</td>\n",
       "      <td>-0.048068</td>\n",
       "      <td>-0.015739</td>\n",
       "      <td>0.248999</td>\n",
       "      <td>0.007803</td>\n",
       "      <td>0.112772</td>\n",
       "      <td>-0.257431</td>\n",
       "    </tr>\n",
       "    <tr>\n",
       "      <th>children</th>\n",
       "      <td>0.067171</td>\n",
       "      <td>0.028786</td>\n",
       "      <td>0.041683</td>\n",
       "      <td>0.013453</td>\n",
       "      <td>0.015956</td>\n",
       "      <td>0.027916</td>\n",
       "      <td>0.029670</td>\n",
       "      <td>0.023735</td>\n",
       "      <td>1.000000</td>\n",
       "      <td>0.017492</td>\n",
       "      <td>-0.045727</td>\n",
       "      <td>-0.019240</td>\n",
       "      <td>-0.029478</td>\n",
       "      <td>0.030803</td>\n",
       "      <td>-0.020456</td>\n",
       "      <td>0.327030</td>\n",
       "      <td>0.036500</td>\n",
       "      <td>0.044635</td>\n",
       "      <td>-0.094932</td>\n",
       "    </tr>\n",
       "    <tr>\n",
       "      <th>babies</th>\n",
       "      <td>-0.020541</td>\n",
       "      <td>-0.003614</td>\n",
       "      <td>-0.023336</td>\n",
       "      <td>0.014260</td>\n",
       "      <td>-0.000394</td>\n",
       "      <td>0.013671</td>\n",
       "      <td>0.016014</td>\n",
       "      <td>0.016640</td>\n",
       "      <td>0.017492</td>\n",
       "      <td>1.000000</td>\n",
       "      <td>-0.012977</td>\n",
       "      <td>-0.005395</td>\n",
       "      <td>-0.009193</td>\n",
       "      <td>0.081040</td>\n",
       "      <td>-0.006840</td>\n",
       "      <td>0.023446</td>\n",
       "      <td>0.030884</td>\n",
       "      <td>0.094821</td>\n",
       "      <td>-0.001538</td>\n",
       "    </tr>\n",
       "    <tr>\n",
       "      <th>is_repeated_guest</th>\n",
       "      <td>-0.089640</td>\n",
       "      <td>-0.147004</td>\n",
       "      <td>0.024339</td>\n",
       "      <td>-0.036859</td>\n",
       "      <td>-0.004179</td>\n",
       "      <td>-0.106947</td>\n",
       "      <td>-0.113543</td>\n",
       "      <td>-0.171714</td>\n",
       "      <td>-0.045727</td>\n",
       "      <td>-0.012977</td>\n",
       "      <td>1.000000</td>\n",
       "      <td>0.206374</td>\n",
       "      <td>0.441456</td>\n",
       "      <td>0.006053</td>\n",
       "      <td>-0.012816</td>\n",
       "      <td>-0.153040</td>\n",
       "      <td>0.072018</td>\n",
       "      <td>-0.001320</td>\n",
       "      <td>-0.031622</td>\n",
       "    </tr>\n",
       "    <tr>\n",
       "      <th>previous_cancellations</th>\n",
       "      <td>0.051470</td>\n",
       "      <td>0.005374</td>\n",
       "      <td>-0.054215</td>\n",
       "      <td>0.007199</td>\n",
       "      <td>-0.008539</td>\n",
       "      <td>-0.020634</td>\n",
       "      <td>-0.018779</td>\n",
       "      <td>-0.042097</td>\n",
       "      <td>-0.019240</td>\n",
       "      <td>-0.005395</td>\n",
       "      <td>0.206374</td>\n",
       "      <td>1.000000</td>\n",
       "      <td>0.392064</td>\n",
       "      <td>-0.010267</td>\n",
       "      <td>0.003682</td>\n",
       "      <td>-0.050267</td>\n",
       "      <td>-0.003399</td>\n",
       "      <td>0.001871</td>\n",
       "      <td>-0.016844</td>\n",
       "    </tr>\n",
       "    <tr>\n",
       "      <th>previous_bookings_not_canceled</th>\n",
       "      <td>-0.052152</td>\n",
       "      <td>-0.078932</td>\n",
       "      <td>0.027254</td>\n",
       "      <td>-0.020819</td>\n",
       "      <td>0.000151</td>\n",
       "      <td>-0.056652</td>\n",
       "      <td>-0.058503</td>\n",
       "      <td>-0.120913</td>\n",
       "      <td>-0.029478</td>\n",
       "      <td>-0.009193</td>\n",
       "      <td>0.441456</td>\n",
       "      <td>0.392064</td>\n",
       "      <td>1.000000</td>\n",
       "      <td>0.005423</td>\n",
       "      <td>-0.006304</td>\n",
       "      <td>-0.085721</td>\n",
       "      <td>0.040871</td>\n",
       "      <td>0.027113</td>\n",
       "      <td>-0.000472</td>\n",
       "    </tr>\n",
       "    <tr>\n",
       "      <th>booking_changes</th>\n",
       "      <td>-0.093692</td>\n",
       "      <td>0.077038</td>\n",
       "      <td>0.008653</td>\n",
       "      <td>0.011898</td>\n",
       "      <td>0.006319</td>\n",
       "      <td>0.050241</td>\n",
       "      <td>0.084955</td>\n",
       "      <td>-0.048068</td>\n",
       "      <td>0.030803</td>\n",
       "      <td>0.081040</td>\n",
       "      <td>0.006053</td>\n",
       "      <td>-0.010267</td>\n",
       "      <td>0.005423</td>\n",
       "      <td>1.000000</td>\n",
       "      <td>0.024207</td>\n",
       "      <td>0.002539</td>\n",
       "      <td>0.048727</td>\n",
       "      <td>0.016106</td>\n",
       "      <td>0.029332</td>\n",
       "    </tr>\n",
       "    <tr>\n",
       "      <th>days_in_waiting_list</th>\n",
       "      <td>0.004466</td>\n",
       "      <td>0.132152</td>\n",
       "      <td>-0.027941</td>\n",
       "      <td>0.013843</td>\n",
       "      <td>0.006588</td>\n",
       "      <td>-0.031679</td>\n",
       "      <td>0.001908</td>\n",
       "      <td>-0.015739</td>\n",
       "      <td>-0.020456</td>\n",
       "      <td>-0.006840</td>\n",
       "      <td>-0.012816</td>\n",
       "      <td>0.003682</td>\n",
       "      <td>-0.006304</td>\n",
       "      <td>0.024207</td>\n",
       "      <td>1.000000</td>\n",
       "      <td>-0.033001</td>\n",
       "      <td>-0.016068</td>\n",
       "      <td>-0.049544</td>\n",
       "      <td>-0.014644</td>\n",
       "    </tr>\n",
       "    <tr>\n",
       "      <th>adr</th>\n",
       "      <td>0.127979</td>\n",
       "      <td>0.023566</td>\n",
       "      <td>0.176102</td>\n",
       "      <td>0.098279</td>\n",
       "      <td>0.022593</td>\n",
       "      <td>0.038958</td>\n",
       "      <td>0.053282</td>\n",
       "      <td>0.248999</td>\n",
       "      <td>0.327030</td>\n",
       "      <td>0.023446</td>\n",
       "      <td>-0.153040</td>\n",
       "      <td>-0.050267</td>\n",
       "      <td>-0.085721</td>\n",
       "      <td>0.002539</td>\n",
       "      <td>-0.033001</td>\n",
       "      <td>1.000000</td>\n",
       "      <td>0.039121</td>\n",
       "      <td>0.137829</td>\n",
       "      <td>0.670095</td>\n",
       "    </tr>\n",
       "    <tr>\n",
       "      <th>required_car_parking_spaces</th>\n",
       "      <td>-0.184204</td>\n",
       "      <td>-0.086542</td>\n",
       "      <td>-0.039813</td>\n",
       "      <td>0.008947</td>\n",
       "      <td>0.009166</td>\n",
       "      <td>-0.042912</td>\n",
       "      <td>-0.044294</td>\n",
       "      <td>0.007803</td>\n",
       "      <td>0.036500</td>\n",
       "      <td>0.030884</td>\n",
       "      <td>0.072018</td>\n",
       "      <td>-0.003399</td>\n",
       "      <td>0.040871</td>\n",
       "      <td>0.048727</td>\n",
       "      <td>-0.016068</td>\n",
       "      <td>0.039121</td>\n",
       "      <td>1.000000</td>\n",
       "      <td>0.048456</td>\n",
       "      <td>-0.000490</td>\n",
       "    </tr>\n",
       "    <tr>\n",
       "      <th>total_of_special_requests</th>\n",
       "      <td>-0.120554</td>\n",
       "      <td>0.034241</td>\n",
       "      <td>0.064277</td>\n",
       "      <td>0.046598</td>\n",
       "      <td>-0.001649</td>\n",
       "      <td>0.032386</td>\n",
       "      <td>0.037811</td>\n",
       "      <td>0.112772</td>\n",
       "      <td>0.044635</td>\n",
       "      <td>0.094821</td>\n",
       "      <td>-0.001320</td>\n",
       "      <td>0.001871</td>\n",
       "      <td>0.027113</td>\n",
       "      <td>0.016106</td>\n",
       "      <td>-0.049544</td>\n",
       "      <td>0.137829</td>\n",
       "      <td>0.048456</td>\n",
       "      <td>1.000000</td>\n",
       "      <td>0.027168</td>\n",
       "    </tr>\n",
       "    <tr>\n",
       "      <th>adr_per_one</th>\n",
       "      <td>0.051879</td>\n",
       "      <td>-0.085087</td>\n",
       "      <td>0.117677</td>\n",
       "      <td>0.078481</td>\n",
       "      <td>0.016392</td>\n",
       "      <td>-0.040574</td>\n",
       "      <td>-0.037564</td>\n",
       "      <td>-0.257431</td>\n",
       "      <td>-0.094932</td>\n",
       "      <td>-0.001538</td>\n",
       "      <td>-0.031622</td>\n",
       "      <td>-0.016844</td>\n",
       "      <td>-0.000472</td>\n",
       "      <td>0.029332</td>\n",
       "      <td>-0.014644</td>\n",
       "      <td>0.670095</td>\n",
       "      <td>-0.000490</td>\n",
       "      <td>0.027168</td>\n",
       "      <td>1.000000</td>\n",
       "    </tr>\n",
       "  </tbody>\n",
       "</table>\n",
       "</div>"
      ],
      "text/plain": [
       "                                is_canceled  lead_time  arrival_date_year  \\\n",
       "is_canceled                        1.000000   0.184814           0.088066   \n",
       "lead_time                          0.184814   1.000000           0.139132   \n",
       "arrival_date_year                  0.088066   0.139132           1.000000   \n",
       "arrival_date_week_number           0.001440   0.101151          -0.514234   \n",
       "arrival_date_day_of_month          0.005336   0.009865          -0.010032   \n",
       "stays_in_weekend_nights            0.060141   0.235166           0.005203   \n",
       "stays_in_week_nights               0.082869   0.310164           0.003718   \n",
       "adults                             0.081814   0.140494           0.038624   \n",
       "children                           0.067171   0.028786           0.041683   \n",
       "babies                            -0.020541  -0.003614          -0.023336   \n",
       "is_repeated_guest                 -0.089640  -0.147004           0.024339   \n",
       "previous_cancellations             0.051470   0.005374          -0.054215   \n",
       "previous_bookings_not_canceled    -0.052152  -0.078932           0.027254   \n",
       "booking_changes                   -0.093692   0.077038           0.008653   \n",
       "days_in_waiting_list               0.004466   0.132152          -0.027941   \n",
       "adr                                0.127979   0.023566           0.176102   \n",
       "required_car_parking_spaces       -0.184204  -0.086542          -0.039813   \n",
       "total_of_special_requests         -0.120554   0.034241           0.064277   \n",
       "adr_per_one                        0.051879  -0.085087           0.117677   \n",
       "\n",
       "                                arrival_date_week_number  \\\n",
       "is_canceled                                     0.001440   \n",
       "lead_time                                       0.101151   \n",
       "arrival_date_year                              -0.514234   \n",
       "arrival_date_week_number                        1.000000   \n",
       "arrival_date_day_of_month                       0.093595   \n",
       "stays_in_weekend_nights                         0.026864   \n",
       "stays_in_week_nights                            0.027797   \n",
       "adults                                          0.024361   \n",
       "children                                        0.013453   \n",
       "babies                                          0.014260   \n",
       "is_repeated_guest                              -0.036859   \n",
       "previous_cancellations                          0.007199   \n",
       "previous_bookings_not_canceled                 -0.020819   \n",
       "booking_changes                                 0.011898   \n",
       "days_in_waiting_list                            0.013843   \n",
       "adr                                             0.098279   \n",
       "required_car_parking_spaces                     0.008947   \n",
       "total_of_special_requests                       0.046598   \n",
       "adr_per_one                                     0.078481   \n",
       "\n",
       "                                arrival_date_day_of_month  \\\n",
       "is_canceled                                      0.005336   \n",
       "lead_time                                        0.009865   \n",
       "arrival_date_year                               -0.010032   \n",
       "arrival_date_week_number                         0.093595   \n",
       "arrival_date_day_of_month                        1.000000   \n",
       "stays_in_weekend_nights                         -0.017789   \n",
       "stays_in_week_nights                            -0.028174   \n",
       "adults                                          -0.001124   \n",
       "children                                         0.015956   \n",
       "babies                                          -0.000394   \n",
       "is_repeated_guest                               -0.004179   \n",
       "previous_cancellations                          -0.008539   \n",
       "previous_bookings_not_canceled                   0.000151   \n",
       "booking_changes                                  0.006319   \n",
       "days_in_waiting_list                             0.006588   \n",
       "adr                                              0.022593   \n",
       "required_car_parking_spaces                      0.009166   \n",
       "total_of_special_requests                       -0.001649   \n",
       "adr_per_one                                      0.016392   \n",
       "\n",
       "                                stays_in_weekend_nights  stays_in_week_nights  \\\n",
       "is_canceled                                    0.060141              0.082869   \n",
       "lead_time                                      0.235166              0.310164   \n",
       "arrival_date_year                              0.005203              0.003718   \n",
       "arrival_date_week_number                       0.026864              0.027797   \n",
       "arrival_date_day_of_month                     -0.017789             -0.028174   \n",
       "stays_in_weekend_nights                        1.000000              0.555500   \n",
       "stays_in_week_nights                           0.555500              1.000000   \n",
       "adults                                         0.088282              0.095576   \n",
       "children                                       0.027916              0.029670   \n",
       "babies                                         0.013671              0.016014   \n",
       "is_repeated_guest                             -0.106947             -0.113543   \n",
       "previous_cancellations                        -0.020634             -0.018779   \n",
       "previous_bookings_not_canceled                -0.056652             -0.058503   \n",
       "booking_changes                                0.050241              0.084955   \n",
       "days_in_waiting_list                          -0.031679              0.001908   \n",
       "adr                                            0.038958              0.053282   \n",
       "required_car_parking_spaces                   -0.042912             -0.044294   \n",
       "total_of_special_requests                      0.032386              0.037811   \n",
       "adr_per_one                                   -0.040574             -0.037564   \n",
       "\n",
       "                                  adults  children    babies  \\\n",
       "is_canceled                     0.081814  0.067171 -0.020541   \n",
       "lead_time                       0.140494  0.028786 -0.003614   \n",
       "arrival_date_year               0.038624  0.041683 -0.023336   \n",
       "arrival_date_week_number        0.024361  0.013453  0.014260   \n",
       "arrival_date_day_of_month      -0.001124  0.015956 -0.000394   \n",
       "stays_in_weekend_nights         0.088282  0.027916  0.013671   \n",
       "stays_in_week_nights            0.095576  0.029670  0.016014   \n",
       "adults                          1.000000  0.023735  0.016640   \n",
       "children                        0.023735  1.000000  0.017492   \n",
       "babies                          0.016640  0.017492  1.000000   \n",
       "is_repeated_guest              -0.171714 -0.045727 -0.012977   \n",
       "previous_cancellations         -0.042097 -0.019240 -0.005395   \n",
       "previous_bookings_not_canceled -0.120913 -0.029478 -0.009193   \n",
       "booking_changes                -0.048068  0.030803  0.081040   \n",
       "days_in_waiting_list           -0.015739 -0.020456 -0.006840   \n",
       "adr                             0.248999  0.327030  0.023446   \n",
       "required_car_parking_spaces     0.007803  0.036500  0.030884   \n",
       "total_of_special_requests       0.112772  0.044635  0.094821   \n",
       "adr_per_one                    -0.257431 -0.094932 -0.001538   \n",
       "\n",
       "                                is_repeated_guest  previous_cancellations  \\\n",
       "is_canceled                             -0.089640                0.051470   \n",
       "lead_time                               -0.147004                0.005374   \n",
       "arrival_date_year                        0.024339               -0.054215   \n",
       "arrival_date_week_number                -0.036859                0.007199   \n",
       "arrival_date_day_of_month               -0.004179               -0.008539   \n",
       "stays_in_weekend_nights                 -0.106947               -0.020634   \n",
       "stays_in_week_nights                    -0.113543               -0.018779   \n",
       "adults                                  -0.171714               -0.042097   \n",
       "children                                -0.045727               -0.019240   \n",
       "babies                                  -0.012977               -0.005395   \n",
       "is_repeated_guest                        1.000000                0.206374   \n",
       "previous_cancellations                   0.206374                1.000000   \n",
       "previous_bookings_not_canceled           0.441456                0.392064   \n",
       "booking_changes                          0.006053               -0.010267   \n",
       "days_in_waiting_list                    -0.012816                0.003682   \n",
       "adr                                     -0.153040               -0.050267   \n",
       "required_car_parking_spaces              0.072018               -0.003399   \n",
       "total_of_special_requests               -0.001320                0.001871   \n",
       "adr_per_one                             -0.031622               -0.016844   \n",
       "\n",
       "                                previous_bookings_not_canceled  \\\n",
       "is_canceled                                          -0.052152   \n",
       "lead_time                                            -0.078932   \n",
       "arrival_date_year                                     0.027254   \n",
       "arrival_date_week_number                             -0.020819   \n",
       "arrival_date_day_of_month                             0.000151   \n",
       "stays_in_weekend_nights                              -0.056652   \n",
       "stays_in_week_nights                                 -0.058503   \n",
       "adults                                               -0.120913   \n",
       "children                                             -0.029478   \n",
       "babies                                               -0.009193   \n",
       "is_repeated_guest                                     0.441456   \n",
       "previous_cancellations                                0.392064   \n",
       "previous_bookings_not_canceled                        1.000000   \n",
       "booking_changes                                       0.005423   \n",
       "days_in_waiting_list                                 -0.006304   \n",
       "adr                                                  -0.085721   \n",
       "required_car_parking_spaces                           0.040871   \n",
       "total_of_special_requests                             0.027113   \n",
       "adr_per_one                                          -0.000472   \n",
       "\n",
       "                                booking_changes  days_in_waiting_list  \\\n",
       "is_canceled                           -0.093692              0.004466   \n",
       "lead_time                              0.077038              0.132152   \n",
       "arrival_date_year                      0.008653             -0.027941   \n",
       "arrival_date_week_number               0.011898              0.013843   \n",
       "arrival_date_day_of_month              0.006319              0.006588   \n",
       "stays_in_weekend_nights                0.050241             -0.031679   \n",
       "stays_in_week_nights                   0.084955              0.001908   \n",
       "adults                                -0.048068             -0.015739   \n",
       "children                               0.030803             -0.020456   \n",
       "babies                                 0.081040             -0.006840   \n",
       "is_repeated_guest                      0.006053             -0.012816   \n",
       "previous_cancellations                -0.010267              0.003682   \n",
       "previous_bookings_not_canceled         0.005423             -0.006304   \n",
       "booking_changes                        1.000000              0.024207   \n",
       "days_in_waiting_list                   0.024207              1.000000   \n",
       "adr                                    0.002539             -0.033001   \n",
       "required_car_parking_spaces            0.048727             -0.016068   \n",
       "total_of_special_requests              0.016106             -0.049544   \n",
       "adr_per_one                            0.029332             -0.014644   \n",
       "\n",
       "                                     adr  required_car_parking_spaces  \\\n",
       "is_canceled                     0.127979                    -0.184204   \n",
       "lead_time                       0.023566                    -0.086542   \n",
       "arrival_date_year               0.176102                    -0.039813   \n",
       "arrival_date_week_number        0.098279                     0.008947   \n",
       "arrival_date_day_of_month       0.022593                     0.009166   \n",
       "stays_in_weekend_nights         0.038958                    -0.042912   \n",
       "stays_in_week_nights            0.053282                    -0.044294   \n",
       "adults                          0.248999                     0.007803   \n",
       "children                        0.327030                     0.036500   \n",
       "babies                          0.023446                     0.030884   \n",
       "is_repeated_guest              -0.153040                     0.072018   \n",
       "previous_cancellations         -0.050267                    -0.003399   \n",
       "previous_bookings_not_canceled -0.085721                     0.040871   \n",
       "booking_changes                 0.002539                     0.048727   \n",
       "days_in_waiting_list           -0.033001                    -0.016068   \n",
       "adr                             1.000000                     0.039121   \n",
       "required_car_parking_spaces     0.039121                     1.000000   \n",
       "total_of_special_requests       0.137829                     0.048456   \n",
       "adr_per_one                     0.670095                    -0.000490   \n",
       "\n",
       "                                total_of_special_requests  adr_per_one  \n",
       "is_canceled                                     -0.120554     0.051879  \n",
       "lead_time                                        0.034241    -0.085087  \n",
       "arrival_date_year                                0.064277     0.117677  \n",
       "arrival_date_week_number                         0.046598     0.078481  \n",
       "arrival_date_day_of_month                       -0.001649     0.016392  \n",
       "stays_in_weekend_nights                          0.032386    -0.040574  \n",
       "stays_in_week_nights                             0.037811    -0.037564  \n",
       "adults                                           0.112772    -0.257431  \n",
       "children                                         0.044635    -0.094932  \n",
       "babies                                           0.094821    -0.001538  \n",
       "is_repeated_guest                               -0.001320    -0.031622  \n",
       "previous_cancellations                           0.001871    -0.016844  \n",
       "previous_bookings_not_canceled                   0.027113    -0.000472  \n",
       "booking_changes                                  0.016106     0.029332  \n",
       "days_in_waiting_list                            -0.049544    -0.014644  \n",
       "adr                                              0.137829     0.670095  \n",
       "required_car_parking_spaces                      0.048456    -0.000490  \n",
       "total_of_special_requests                        1.000000     0.027168  \n",
       "adr_per_one                                      0.027168     1.000000  "
      ]
     },
     "execution_count": 295,
     "metadata": {},
     "output_type": "execute_result"
    }
   ],
   "source": [
    "data.corr()"
   ]
  }
 ],
 "metadata": {
  "kernelspec": {
   "display_name": "Python 3",
   "language": "python",
   "name": "python3"
  },
  "language_info": {
   "codemirror_mode": {
    "name": "ipython",
    "version": 3
   },
   "file_extension": ".py",
   "mimetype": "text/x-python",
   "name": "python",
   "nbconvert_exporter": "python",
   "pygments_lexer": "ipython3",
   "version": "3.8.5"
  }
 },
 "nbformat": 4,
 "nbformat_minor": 4
}
